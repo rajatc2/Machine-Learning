{
  "nbformat": 4,
  "nbformat_minor": 0,
  "metadata": {
    "colab": {
      "provenance": [],
      "gpuType": "T4",
      "authorship_tag": "ABX9TyMSUuk45E4sNtShzrtTxD32",
      "include_colab_link": true
    },
    "kernelspec": {
      "name": "python3",
      "display_name": "Python 3"
    },
    "language_info": {
      "name": "python"
    },
    "accelerator": "GPU"
  },
  "cells": [
    {
      "cell_type": "markdown",
      "metadata": {
        "id": "view-in-github",
        "colab_type": "text"
      },
      "source": [
        "<a href=\"https://colab.research.google.com/github/rajatc2/Machine-Learning/blob/main/Pets-Classification/Pets_Classification.ipynb\" target=\"_parent\"><img src=\"https://colab.research.google.com/assets/colab-badge.svg\" alt=\"Open In Colab\"/></a>"
      ]
    },
    {
      "cell_type": "markdown",
      "source": [
        "# Pet Classification"
      ],
      "metadata": {
        "id": "9bMiLwHFmMi6"
      }
    },
    {
      "cell_type": "markdown",
      "source": [
        "# 0. Prepare Data"
      ],
      "metadata": {
        "id": "C8FDztjdmP-w"
      }
    },
    {
      "cell_type": "code",
      "source": [
        "import torch\n",
        "import torch.nn as nn\n",
        "import torch.optim.lr_scheduler as lrs\n",
        "from torch.utils.data import DataLoader\n",
        "import torchvision\n",
        "from torchvision import datasets\n",
        "from torchvision import transforms\n",
        "import matplotlib.pyplot as plt\n",
        "from tqdm import tqdm\n",
        "\n",
        "import os\n",
        "from pathlib import Path\n",
        "import numpy as np"
      ],
      "metadata": {
        "id": "ceGazwv7mQ0F"
      },
      "execution_count": null,
      "outputs": []
    },
    {
      "cell_type": "code",
      "source": [
        "# Mount and define data dir\n",
        "from google.colab import drive\n",
        "drive.mount('/content/drive')\n",
        "datadir = \"/content/\"\n",
        "save_dir = \"/content/drive/My Drive/CS441/hw3\""
      ],
      "metadata": {
        "colab": {
          "base_uri": "https://localhost:8080/"
        },
        "id": "I-tM-3D2nRgq",
        "outputId": "07c5b94f-01c9-4179-ddca-1452dd5de9d3"
      },
      "execution_count": null,
      "outputs": [
        {
          "output_type": "stream",
          "name": "stdout",
          "text": [
            "Mounted at /content/drive\n"
          ]
        }
      ]
    },
    {
      "cell_type": "code",
      "source": [
        "def load_pet_dataset(train_transform = None, test_transform = None):\n",
        "    OxfordIIITPet = datasets.OxfordIIITPet\n",
        "    if os.path.isdir(datadir+ \"oxford-iiit-pet\"):\n",
        "      do_download = False\n",
        "    else:\n",
        "      do_download = True\n",
        "    training_set = OxfordIIITPet(root = datadir,\n",
        "                             split = 'trainval',\n",
        "                             transform = train_transform,\n",
        "                             download = do_download)\n",
        "\n",
        "    test_set = OxfordIIITPet(root = datadir,\n",
        "                           split = 'test',\n",
        "                           transform = test_transform,\n",
        "                           download = do_download)\n",
        "    return training_set, test_set\n",
        "\n",
        "train_set, test_set = load_pet_dataset()\n",
        "\n",
        "# Display a sample in OxfordIIIPet dataset\n",
        "sample_idx = 19 # Choose an image index that you want to display\n",
        "print(\"Label:\", train_set.classes[train_set[sample_idx][1]])\n",
        "#train_set[sample_idx][19]"
      ],
      "metadata": {
        "colab": {
          "base_uri": "https://localhost:8080/"
        },
        "id": "-HwTjUBVnT2h",
        "outputId": "940ec850-711e-46e2-fbe6-f635aa71d62a"
      },
      "execution_count": null,
      "outputs": [
        {
          "output_type": "stream",
          "name": "stdout",
          "text": [
            "Downloading https://thor.robots.ox.ac.uk/pets/images.tar.gz to /content/oxford-iiit-pet/images.tar.gz\n"
          ]
        },
        {
          "output_type": "stream",
          "name": "stderr",
          "text": [
            "100%|██████████| 791918971/791918971 [00:31<00:00, 24869065.22it/s]\n"
          ]
        },
        {
          "output_type": "stream",
          "name": "stdout",
          "text": [
            "Extracting /content/oxford-iiit-pet/images.tar.gz to /content/oxford-iiit-pet\n",
            "Downloading https://thor.robots.ox.ac.uk/pets/annotations.tar.gz to /content/oxford-iiit-pet/annotations.tar.gz\n"
          ]
        },
        {
          "output_type": "stream",
          "name": "stderr",
          "text": [
            "100%|██████████| 19173078/19173078 [00:01<00:00, 10611063.63it/s]\n"
          ]
        },
        {
          "output_type": "stream",
          "name": "stdout",
          "text": [
            "Extracting /content/oxford-iiit-pet/annotations.tar.gz to /content/oxford-iiit-pet\n",
            "Label: Abyssinian\n"
          ]
        }
      ]
    },
    {
      "cell_type": "markdown",
      "source": [
        "## 0a. Data Preprocess using Augmentaion"
      ],
      "metadata": {
        "id": "lzrff5UAng6f"
      }
    },
    {
      "cell_type": "code",
      "source": [
        "from torchvision import transforms\n",
        "from torch.utils.data import DataLoader\n",
        "\n",
        "# Feel free to add augmentation choices\n",
        "\n",
        "# Apply data augmentation\n",
        "train_transform = transforms.Compose([\n",
        "            transforms.Resize(224),\n",
        "            transforms.CenterCrop(224),\n",
        "            transforms.RandomVerticalFlip(p=0.5),\n",
        "            transforms.RandomHorizontalFlip(p=0.5),\n",
        "            transforms.RandomRotation(degrees=15),\n",
        "            transforms.ColorJitter(brightness=0.2, contrast=0.2, saturation=0.2, hue=0.2),\n",
        "            transforms.RandomResizedCrop(size=224, scale=(0.8, 1.2)),\n",
        "            transforms.ToTensor(),\n",
        "            transforms.Normalize(mean=[0.485, 0.456, 0.406],\n",
        "                                 std= [0.229, 0.224, 0.225]),\n",
        "        ])\n",
        "\n",
        "test_transform = transforms.Compose([\n",
        "            transforms.Resize(224),  # resize to 224x224 because that's the size of ImageNet images\n",
        "            transforms.CenterCrop(224),\n",
        "            transforms.ToTensor(),\n",
        "            transforms.Normalize(mean=[0.485, 0.456, 0.406],\n",
        "                                 std= [0.229, 0.224, 0.225]),\n",
        "        ])"
      ],
      "metadata": {
        "id": "w-eLXP_8nm7W"
      },
      "execution_count": null,
      "outputs": []
    },
    {
      "cell_type": "code",
      "source": [
        "# Feel free to change\n",
        "train_set, test_set = load_pet_dataset(train_transform, test_transform)\n",
        "train_loader = DataLoader(dataset=train_set,\n",
        "                          batch_size=64,\n",
        "                          shuffle=True,\n",
        "                          num_workers=2)\n",
        "\n",
        "test_loader = DataLoader(dataset=test_set,\n",
        "                          batch_size=64,\n",
        "                          shuffle=False,\n",
        "                          num_workers=2)\n"
      ],
      "metadata": {
        "id": "7RxI5CkTnsfU"
      },
      "execution_count": null,
      "outputs": []
    },
    {
      "cell_type": "markdown",
      "source": [
        "## 0b. Helper Functions"
      ],
      "metadata": {
        "id": "Y6kIavfLnxb_"
      }
    },
    {
      "cell_type": "code",
      "source": [
        "# Display the number of parameters and model structure\n",
        "def display_model(model):\n",
        "  # Check number of parameters\n",
        "  summary_dict = {}\n",
        "  num_params = 0\n",
        "  summary_str = ['='*80]\n",
        "\n",
        "  for module_name, module in model.named_children():\n",
        "      summary_count = 0\n",
        "      for name, param in module.named_parameters():\n",
        "          if(param.requires_grad):\n",
        "              summary_count += param.numel()\n",
        "              num_params += param.numel()\n",
        "      summary_dict[module_name] = [summary_count]\n",
        "      summary_str+= [f'- {module_name: <40} : {str(summary_count):^34s}']\n",
        "\n",
        "  summary_dict['total'] = [num_params]\n",
        "\n",
        "  # print summary string\n",
        "  summary_str += ['='*80]\n",
        "  summary_str += ['--' +  f'{\"Total\":<40} : {str(num_params) + \" params\":^34s}' +'--']\n",
        "  print('\\n'.join(summary_str))\n",
        "\n",
        "  # print model structure\n",
        "  print(model)"
      ],
      "metadata": {
        "id": "IDSs_xuWnw4q"
      },
      "execution_count": null,
      "outputs": []
    },
    {
      "cell_type": "code",
      "source": [
        "# Plot loss or accuracy\n",
        "def plot_losses(train, val, test_frequency, num_epochs):\n",
        "    plt.plot(train, label=\"train\")\n",
        "    indices = [i for i in range(num_epochs) if ((i+1)%test_frequency == 0 or i ==0 or i == 1)]\n",
        "    plt.plot(indices, val, label=\"val\")\n",
        "    plt.title(\"Loss Plot\")\n",
        "    plt.ylabel(\"Loss\")\n",
        "    plt.xlabel(\"Epoch\")\n",
        "    plt.legend()\n",
        "    plt.show()\n",
        "\n",
        "def plot_accuracy(train, val, test_frequency, num_epochs):\n",
        "    indices = [i for i in range(num_epochs) if ((i+1)%test_frequency == 0 or i ==0 or i == 1)]\n",
        "    plt.plot(indices, train, label=\"train\")\n",
        "    plt.plot(indices, val, label=\"val\")\n",
        "    plt.title(\"Training Plot\")\n",
        "    plt.ylabel(\"Accuracy\")\n",
        "    plt.xlabel(\"Epoch\")\n",
        "    plt.legend()\n",
        "    plt.show()\n",
        "\n",
        "def save_checkpoint(save_dir, model, save_name = 'best_model.pth'):\n",
        "    save_path = os.path.join(save_dir, save_name)\n",
        "    torch.save(model.state_dict(), save_path)\n",
        "\n",
        "def load_model(model, save_dir, save_name = 'best_model.pth'):\n",
        "    save_path = os.path.join(save_dir, save_name)\n",
        "    model.load_state_dict(torch.load(save_path))\n",
        "    return model"
      ],
      "metadata": {
        "id": "ghQS0g0Dn3Fo"
      },
      "execution_count": null,
      "outputs": []
    },
    {
      "cell_type": "markdown",
      "source": [
        "# 1. Fine-Tune Pre-trained Network (ResNet) on Pets"
      ],
      "metadata": {
        "id": "0DvR7PfRocUP"
      }
    },
    {
      "cell_type": "code",
      "source": [
        "def train(train_loader, model, criterion, optimizer):\n",
        "    \"\"\"\n",
        "    Train network\n",
        "    :param train_loader: training dataloader\n",
        "    :param model: model to be trained\n",
        "    :param criterion: criterion used to calculate loss (should be CrossEntropyLoss from torch.nn)\n",
        "    :param optimizer: optimizer for model's params (Adams or SGD)\n",
        "    :return: mean training loss\n",
        "    \"\"\"\n",
        "    model.train()\n",
        "    loss_ = 0.0\n",
        "    losses = []\n",
        "\n",
        "    # TO DO: read this documentation and then uncomment the line below; https://pypi.org/project/tqdm/\n",
        "    it_train = tqdm(enumerate(train_loader), total=len(train_loader), desc=\"Training ...\", position = 0) # progress bar\n",
        "    for i, (images, labels) in it_train:\n",
        "\n",
        "        # TO DO: read/understand and then uncomment these lines\n",
        "        images, labels = images.to(device), labels.to(device)\n",
        "        optimizer.zero_grad()\n",
        "        prediction = model(images)\n",
        "        loss = criterion(prediction, labels)\n",
        "        it_train.set_description(f'loss: {loss:.3f}')\n",
        "        loss.backward()\n",
        "        optimizer.step()\n",
        "        losses.append(loss)\n",
        "\n",
        "    return torch.stack(losses).mean().item()\n",
        "\n",
        "def test(test_loader, model, criterion):\n",
        "    \"\"\"\n",
        "    Test network.\n",
        "    :param test_loader: testing dataloader\n",
        "    :param model: model to be tested\n",
        "    :param criterion: criterion used to calculate loss (should be CrossEntropyLoss from torch.nn)\n",
        "    :return: mean_accuracy: mean accuracy of predicted labels\n",
        "             test_loss: mean test loss during testing\n",
        "    \"\"\"\n",
        "    model.eval()\n",
        "    losses = []\n",
        "    correct = 0\n",
        "    total = 0\n",
        "\n",
        "    # TO DO: read this documentation and then uncomment the line below; https://pypi.org/project/tqdm/\n",
        "    it_test = tqdm(enumerate(test_loader), total=len(test_loader), desc=\"Validating ...\", position = 0)\n",
        "    for i, (images, labels) in it_test:\n",
        "\n",
        "      # TO DO: read/understand and then uncomment these lines\n",
        "      images, labels = images.to(device), labels.to(device)\n",
        "      with torch.no_grad():  # https://pytorch.org/docs/stable/generated/torch.no_grad.html\n",
        "        output = model(images)\n",
        "      preds = torch.argmax(output, dim=-1)\n",
        "      loss = criterion(output, labels)\n",
        "      losses.append(loss.item())\n",
        "      correct += (preds == labels).sum().item()\n",
        "      total += len(labels)\n",
        "\n",
        "    mean_accuracy = correct / total\n",
        "    test_loss = np.mean(losses)\n",
        "    print('Mean Accuracy: {0:.4f}'.format(mean_accuracy))\n",
        "    print('Avg loss: {}'.format(test_loss))\n",
        "\n",
        "    return mean_accuracy, test_loss"
      ],
      "metadata": {
        "id": "D_D_Scp6pRX1"
      },
      "execution_count": null,
      "outputs": []
    },
    {
      "cell_type": "markdown",
      "source": [
        "Loading pretrained ResNET-34 model and display model"
      ],
      "metadata": {
        "id": "_x4-nwCnp3Fr"
      }
    },
    {
      "cell_type": "code",
      "source": [
        "device = 'cuda'\n",
        "# loads a pre-trained ResNet-34 model\n",
        "model = torch.hub.load('pytorch/vision:v0.10.0', 'resnet34', pretrained=True)\n",
        "target_class = 37\n",
        "# TO DO: replace the last layer with a new linear layer for Pets classification\n",
        "feature_no = model.fc.in_features\n",
        "model.fc = nn.Linear(feature_no, target_class)\n",
        "\n",
        "model = model.to(device)\n",
        "display_model(model) # displays the model structure and parameter count"
      ],
      "metadata": {
        "colab": {
          "base_uri": "https://localhost:8080/"
        },
        "id": "PdIb9YEspXtb",
        "outputId": "39ad894c-1ec4-444c-cc9c-c0049bffd483"
      },
      "execution_count": null,
      "outputs": [
        {
          "output_type": "stream",
          "name": "stderr",
          "text": [
            "Downloading: \"https://github.com/pytorch/vision/zipball/v0.10.0\" to /root/.cache/torch/hub/v0.10.0.zip\n",
            "/usr/local/lib/python3.10/dist-packages/torchvision/models/_utils.py:208: UserWarning: The parameter 'pretrained' is deprecated since 0.13 and may be removed in the future, please use 'weights' instead.\n",
            "  warnings.warn(\n",
            "/usr/local/lib/python3.10/dist-packages/torchvision/models/_utils.py:223: UserWarning: Arguments other than a weight enum or `None` for 'weights' are deprecated since 0.13 and may be removed in the future. The current behavior is equivalent to passing `weights=ResNet34_Weights.IMAGENET1K_V1`. You can also use `weights=ResNet34_Weights.DEFAULT` to get the most up-to-date weights.\n",
            "  warnings.warn(msg)\n",
            "Downloading: \"https://download.pytorch.org/models/resnet34-b627a593.pth\" to /root/.cache/torch/hub/checkpoints/resnet34-b627a593.pth\n",
            "100%|██████████| 83.3M/83.3M [00:01<00:00, 52.9MB/s]\n"
          ]
        },
        {
          "output_type": "stream",
          "name": "stdout",
          "text": [
            "================================================================================\n",
            "- conv1                                    :                9408               \n",
            "- bn1                                      :                128                \n",
            "- relu                                     :                 0                 \n",
            "- maxpool                                  :                 0                 \n",
            "- layer1                                   :               221952              \n",
            "- layer2                                   :              1116416              \n",
            "- layer3                                   :              6822400              \n",
            "- layer4                                   :              13114368             \n",
            "- avgpool                                  :                 0                 \n",
            "- fc                                       :               18981               \n",
            "================================================================================\n",
            "--Total                                    :          21303653 params          --\n",
            "ResNet(\n",
            "  (conv1): Conv2d(3, 64, kernel_size=(7, 7), stride=(2, 2), padding=(3, 3), bias=False)\n",
            "  (bn1): BatchNorm2d(64, eps=1e-05, momentum=0.1, affine=True, track_running_stats=True)\n",
            "  (relu): ReLU(inplace=True)\n",
            "  (maxpool): MaxPool2d(kernel_size=3, stride=2, padding=1, dilation=1, ceil_mode=False)\n",
            "  (layer1): Sequential(\n",
            "    (0): BasicBlock(\n",
            "      (conv1): Conv2d(64, 64, kernel_size=(3, 3), stride=(1, 1), padding=(1, 1), bias=False)\n",
            "      (bn1): BatchNorm2d(64, eps=1e-05, momentum=0.1, affine=True, track_running_stats=True)\n",
            "      (relu): ReLU(inplace=True)\n",
            "      (conv2): Conv2d(64, 64, kernel_size=(3, 3), stride=(1, 1), padding=(1, 1), bias=False)\n",
            "      (bn2): BatchNorm2d(64, eps=1e-05, momentum=0.1, affine=True, track_running_stats=True)\n",
            "    )\n",
            "    (1): BasicBlock(\n",
            "      (conv1): Conv2d(64, 64, kernel_size=(3, 3), stride=(1, 1), padding=(1, 1), bias=False)\n",
            "      (bn1): BatchNorm2d(64, eps=1e-05, momentum=0.1, affine=True, track_running_stats=True)\n",
            "      (relu): ReLU(inplace=True)\n",
            "      (conv2): Conv2d(64, 64, kernel_size=(3, 3), stride=(1, 1), padding=(1, 1), bias=False)\n",
            "      (bn2): BatchNorm2d(64, eps=1e-05, momentum=0.1, affine=True, track_running_stats=True)\n",
            "    )\n",
            "    (2): BasicBlock(\n",
            "      (conv1): Conv2d(64, 64, kernel_size=(3, 3), stride=(1, 1), padding=(1, 1), bias=False)\n",
            "      (bn1): BatchNorm2d(64, eps=1e-05, momentum=0.1, affine=True, track_running_stats=True)\n",
            "      (relu): ReLU(inplace=True)\n",
            "      (conv2): Conv2d(64, 64, kernel_size=(3, 3), stride=(1, 1), padding=(1, 1), bias=False)\n",
            "      (bn2): BatchNorm2d(64, eps=1e-05, momentum=0.1, affine=True, track_running_stats=True)\n",
            "    )\n",
            "  )\n",
            "  (layer2): Sequential(\n",
            "    (0): BasicBlock(\n",
            "      (conv1): Conv2d(64, 128, kernel_size=(3, 3), stride=(2, 2), padding=(1, 1), bias=False)\n",
            "      (bn1): BatchNorm2d(128, eps=1e-05, momentum=0.1, affine=True, track_running_stats=True)\n",
            "      (relu): ReLU(inplace=True)\n",
            "      (conv2): Conv2d(128, 128, kernel_size=(3, 3), stride=(1, 1), padding=(1, 1), bias=False)\n",
            "      (bn2): BatchNorm2d(128, eps=1e-05, momentum=0.1, affine=True, track_running_stats=True)\n",
            "      (downsample): Sequential(\n",
            "        (0): Conv2d(64, 128, kernel_size=(1, 1), stride=(2, 2), bias=False)\n",
            "        (1): BatchNorm2d(128, eps=1e-05, momentum=0.1, affine=True, track_running_stats=True)\n",
            "      )\n",
            "    )\n",
            "    (1): BasicBlock(\n",
            "      (conv1): Conv2d(128, 128, kernel_size=(3, 3), stride=(1, 1), padding=(1, 1), bias=False)\n",
            "      (bn1): BatchNorm2d(128, eps=1e-05, momentum=0.1, affine=True, track_running_stats=True)\n",
            "      (relu): ReLU(inplace=True)\n",
            "      (conv2): Conv2d(128, 128, kernel_size=(3, 3), stride=(1, 1), padding=(1, 1), bias=False)\n",
            "      (bn2): BatchNorm2d(128, eps=1e-05, momentum=0.1, affine=True, track_running_stats=True)\n",
            "    )\n",
            "    (2): BasicBlock(\n",
            "      (conv1): Conv2d(128, 128, kernel_size=(3, 3), stride=(1, 1), padding=(1, 1), bias=False)\n",
            "      (bn1): BatchNorm2d(128, eps=1e-05, momentum=0.1, affine=True, track_running_stats=True)\n",
            "      (relu): ReLU(inplace=True)\n",
            "      (conv2): Conv2d(128, 128, kernel_size=(3, 3), stride=(1, 1), padding=(1, 1), bias=False)\n",
            "      (bn2): BatchNorm2d(128, eps=1e-05, momentum=0.1, affine=True, track_running_stats=True)\n",
            "    )\n",
            "    (3): BasicBlock(\n",
            "      (conv1): Conv2d(128, 128, kernel_size=(3, 3), stride=(1, 1), padding=(1, 1), bias=False)\n",
            "      (bn1): BatchNorm2d(128, eps=1e-05, momentum=0.1, affine=True, track_running_stats=True)\n",
            "      (relu): ReLU(inplace=True)\n",
            "      (conv2): Conv2d(128, 128, kernel_size=(3, 3), stride=(1, 1), padding=(1, 1), bias=False)\n",
            "      (bn2): BatchNorm2d(128, eps=1e-05, momentum=0.1, affine=True, track_running_stats=True)\n",
            "    )\n",
            "  )\n",
            "  (layer3): Sequential(\n",
            "    (0): BasicBlock(\n",
            "      (conv1): Conv2d(128, 256, kernel_size=(3, 3), stride=(2, 2), padding=(1, 1), bias=False)\n",
            "      (bn1): BatchNorm2d(256, eps=1e-05, momentum=0.1, affine=True, track_running_stats=True)\n",
            "      (relu): ReLU(inplace=True)\n",
            "      (conv2): Conv2d(256, 256, kernel_size=(3, 3), stride=(1, 1), padding=(1, 1), bias=False)\n",
            "      (bn2): BatchNorm2d(256, eps=1e-05, momentum=0.1, affine=True, track_running_stats=True)\n",
            "      (downsample): Sequential(\n",
            "        (0): Conv2d(128, 256, kernel_size=(1, 1), stride=(2, 2), bias=False)\n",
            "        (1): BatchNorm2d(256, eps=1e-05, momentum=0.1, affine=True, track_running_stats=True)\n",
            "      )\n",
            "    )\n",
            "    (1): BasicBlock(\n",
            "      (conv1): Conv2d(256, 256, kernel_size=(3, 3), stride=(1, 1), padding=(1, 1), bias=False)\n",
            "      (bn1): BatchNorm2d(256, eps=1e-05, momentum=0.1, affine=True, track_running_stats=True)\n",
            "      (relu): ReLU(inplace=True)\n",
            "      (conv2): Conv2d(256, 256, kernel_size=(3, 3), stride=(1, 1), padding=(1, 1), bias=False)\n",
            "      (bn2): BatchNorm2d(256, eps=1e-05, momentum=0.1, affine=True, track_running_stats=True)\n",
            "    )\n",
            "    (2): BasicBlock(\n",
            "      (conv1): Conv2d(256, 256, kernel_size=(3, 3), stride=(1, 1), padding=(1, 1), bias=False)\n",
            "      (bn1): BatchNorm2d(256, eps=1e-05, momentum=0.1, affine=True, track_running_stats=True)\n",
            "      (relu): ReLU(inplace=True)\n",
            "      (conv2): Conv2d(256, 256, kernel_size=(3, 3), stride=(1, 1), padding=(1, 1), bias=False)\n",
            "      (bn2): BatchNorm2d(256, eps=1e-05, momentum=0.1, affine=True, track_running_stats=True)\n",
            "    )\n",
            "    (3): BasicBlock(\n",
            "      (conv1): Conv2d(256, 256, kernel_size=(3, 3), stride=(1, 1), padding=(1, 1), bias=False)\n",
            "      (bn1): BatchNorm2d(256, eps=1e-05, momentum=0.1, affine=True, track_running_stats=True)\n",
            "      (relu): ReLU(inplace=True)\n",
            "      (conv2): Conv2d(256, 256, kernel_size=(3, 3), stride=(1, 1), padding=(1, 1), bias=False)\n",
            "      (bn2): BatchNorm2d(256, eps=1e-05, momentum=0.1, affine=True, track_running_stats=True)\n",
            "    )\n",
            "    (4): BasicBlock(\n",
            "      (conv1): Conv2d(256, 256, kernel_size=(3, 3), stride=(1, 1), padding=(1, 1), bias=False)\n",
            "      (bn1): BatchNorm2d(256, eps=1e-05, momentum=0.1, affine=True, track_running_stats=True)\n",
            "      (relu): ReLU(inplace=True)\n",
            "      (conv2): Conv2d(256, 256, kernel_size=(3, 3), stride=(1, 1), padding=(1, 1), bias=False)\n",
            "      (bn2): BatchNorm2d(256, eps=1e-05, momentum=0.1, affine=True, track_running_stats=True)\n",
            "    )\n",
            "    (5): BasicBlock(\n",
            "      (conv1): Conv2d(256, 256, kernel_size=(3, 3), stride=(1, 1), padding=(1, 1), bias=False)\n",
            "      (bn1): BatchNorm2d(256, eps=1e-05, momentum=0.1, affine=True, track_running_stats=True)\n",
            "      (relu): ReLU(inplace=True)\n",
            "      (conv2): Conv2d(256, 256, kernel_size=(3, 3), stride=(1, 1), padding=(1, 1), bias=False)\n",
            "      (bn2): BatchNorm2d(256, eps=1e-05, momentum=0.1, affine=True, track_running_stats=True)\n",
            "    )\n",
            "  )\n",
            "  (layer4): Sequential(\n",
            "    (0): BasicBlock(\n",
            "      (conv1): Conv2d(256, 512, kernel_size=(3, 3), stride=(2, 2), padding=(1, 1), bias=False)\n",
            "      (bn1): BatchNorm2d(512, eps=1e-05, momentum=0.1, affine=True, track_running_stats=True)\n",
            "      (relu): ReLU(inplace=True)\n",
            "      (conv2): Conv2d(512, 512, kernel_size=(3, 3), stride=(1, 1), padding=(1, 1), bias=False)\n",
            "      (bn2): BatchNorm2d(512, eps=1e-05, momentum=0.1, affine=True, track_running_stats=True)\n",
            "      (downsample): Sequential(\n",
            "        (0): Conv2d(256, 512, kernel_size=(1, 1), stride=(2, 2), bias=False)\n",
            "        (1): BatchNorm2d(512, eps=1e-05, momentum=0.1, affine=True, track_running_stats=True)\n",
            "      )\n",
            "    )\n",
            "    (1): BasicBlock(\n",
            "      (conv1): Conv2d(512, 512, kernel_size=(3, 3), stride=(1, 1), padding=(1, 1), bias=False)\n",
            "      (bn1): BatchNorm2d(512, eps=1e-05, momentum=0.1, affine=True, track_running_stats=True)\n",
            "      (relu): ReLU(inplace=True)\n",
            "      (conv2): Conv2d(512, 512, kernel_size=(3, 3), stride=(1, 1), padding=(1, 1), bias=False)\n",
            "      (bn2): BatchNorm2d(512, eps=1e-05, momentum=0.1, affine=True, track_running_stats=True)\n",
            "    )\n",
            "    (2): BasicBlock(\n",
            "      (conv1): Conv2d(512, 512, kernel_size=(3, 3), stride=(1, 1), padding=(1, 1), bias=False)\n",
            "      (bn1): BatchNorm2d(512, eps=1e-05, momentum=0.1, affine=True, track_running_stats=True)\n",
            "      (relu): ReLU(inplace=True)\n",
            "      (conv2): Conv2d(512, 512, kernel_size=(3, 3), stride=(1, 1), padding=(1, 1), bias=False)\n",
            "      (bn2): BatchNorm2d(512, eps=1e-05, momentum=0.1, affine=True, track_running_stats=True)\n",
            "    )\n",
            "  )\n",
            "  (avgpool): AdaptiveAvgPool2d(output_size=(1, 1))\n",
            "  (fc): Linear(in_features=512, out_features=37, bias=True)\n",
            ")\n"
          ]
        }
      ]
    },
    {
      "cell_type": "code",
      "source": [
        "# Training Setting. Feel free to change.\n",
        "num_epochs = 20\n",
        "test_interval = 5\n",
        "\n",
        "# TO DO: set initial learning rate\n",
        "learn_rate = 0.000095\n",
        "optimizer = torch.optim.Adam(model.parameters(), lr=learn_rate)\n",
        "\n",
        "# TO DO: define your learning rate scheduler, e.g. StepLR\n",
        "# https://pytorch.org/docs/stable/generated/torch.optim.lr_scheduler.StepLR.html#torch.optim.lr_scheduler.StepLR\n",
        "lr_scheduler = torch.optim.lr_scheduler.StepLR(optimizer, step_size=3, gamma=0.5, last_epoch=- 1)\n",
        "\n",
        "criterion = torch.nn.CrossEntropyLoss()\n",
        "\n",
        "train_losses = []\n",
        "train_accuracy_list = []\n",
        "test_losses = []\n",
        "test_accuracy_list = []\n",
        "\n",
        "\n",
        "# Iterate over the DataLoader for training data\n",
        "for epoch in tqdm(range(num_epochs), total=num_epochs, desc=\"Training ...\", position=1):\n",
        "    train_loss = train(train_loader, model, criterion, optimizer) # Train the Network for one epoch\n",
        "    # TO DO: uncomment the line below. It should be called each epoch to apply the lr_scheduler\n",
        "    lr_scheduler.step()\n",
        "    train_losses.append(train_loss)\n",
        "    print(f'Loss for Training on epoch {str(epoch)} is {str(train_loss)} \\n')\n",
        "\n",
        "    if(epoch%test_interval==0 or epoch==1 or epoch==num_epochs-1):\n",
        "        print('Evaluating Network')\n",
        "\n",
        "        train_accuracy, _ = test(train_loader, model, criterion) # Get training accuracy\n",
        "        train_accuracy_list.append(train_accuracy)\n",
        "\n",
        "        print(f'Training accuracy on epoch {str(epoch)} is {str(train_accuracy)} \\n')\n",
        "\n",
        "        test_accuracy, test_loss = test(test_loader, model, criterion) # Get testing accuracy and error\n",
        "        test_losses.append(test_loss)\n",
        "        test_accuracy_list.append(test_accuracy)\n",
        "\n",
        "        print(f'Testing accuracy on epoch {str(epoch)} is {str(test_accuracy)} \\n')\n",
        "\n",
        "        # Checkpoints are used to save the model with best validation accuracy\n",
        "        if test_accuracy >= max(test_accuracy_list):\n",
        "          print(\"Saving Model\")\n",
        "          save_checkpoint(save_dir, model, save_name = 'best_model.pth') # Save model with best performance\n"
      ],
      "metadata": {
        "colab": {
          "base_uri": "https://localhost:8080/"
        },
        "id": "stnNWvWUpcMf",
        "outputId": "2c63a3fc-3ab4-46e0-abb2-9cb93ea3ca92"
      },
      "execution_count": null,
      "outputs": [
        {
          "metadata": {
            "tags": null
          },
          "name": "stderr",
          "output_type": "stream",
          "text": [
            "\n",
            "loss: 1.035: 100%|██████████| 58/58 [00:47<00:00,  1.23it/s]\n"
          ]
        },
        {
          "metadata": {
            "tags": null
          },
          "name": "stdout",
          "output_type": "stream",
          "text": [
            "Loss for Training on epoch 0 is 2.080167770385742 \n",
            "\n",
            "Evaluating Network\n"
          ]
        },
        {
          "metadata": {
            "tags": null
          },
          "name": "stderr",
          "output_type": "stream",
          "text": [
            "Validating ...: 100%|██████████| 58/58 [00:45<00:00,  1.28it/s]"
          ]
        },
        {
          "metadata": {
            "tags": null
          },
          "name": "stdout",
          "output_type": "stream",
          "text": [
            "Mean Accuracy: 0.7943\n",
            "Avg loss: 0.8979830238325842\n",
            "Training accuracy on epoch 0 is 0.7942934782608696 \n",
            "\n"
          ]
        },
        {
          "metadata": {
            "tags": null
          },
          "name": "stderr",
          "output_type": "stream",
          "text": [
            "\n",
            "Validating ...: 100%|██████████| 58/58 [00:24<00:00,  2.39it/s]\n"
          ]
        },
        {
          "metadata": {
            "tags": null
          },
          "name": "stdout",
          "output_type": "stream",
          "text": [
            "Mean Accuracy: 0.8291\n",
            "Avg loss: 0.7638984045078014\n",
            "Testing accuracy on epoch 0 is 0.8291087489779232 \n",
            "\n",
            "Saving Model\n"
          ]
        },
        {
          "metadata": {
            "tags": null
          },
          "name": "stderr",
          "output_type": "stream",
          "text": [
            "\n",
            "loss: 0.610: 100%|██████████| 58/58 [00:45<00:00,  1.29it/s]"
          ]
        },
        {
          "metadata": {
            "tags": null
          },
          "name": "stdout",
          "output_type": "stream",
          "text": [
            "Loss for Training on epoch 1 is 0.7559243440628052 \n",
            "\n",
            "Evaluating Network\n"
          ]
        },
        {
          "metadata": {
            "tags": null
          },
          "name": "stderr",
          "output_type": "stream",
          "text": [
            "\n",
            "Validating ...: 100%|██████████| 58/58 [00:42<00:00,  1.35it/s]"
          ]
        },
        {
          "metadata": {
            "tags": null
          },
          "name": "stdout",
          "output_type": "stream",
          "text": [
            "Mean Accuracy: 0.8918\n",
            "Avg loss: 0.4561938052547389\n",
            "Training accuracy on epoch 1 is 0.8918478260869566 \n",
            "\n"
          ]
        },
        {
          "metadata": {
            "tags": null
          },
          "name": "stderr",
          "output_type": "stream",
          "text": [
            "\n",
            "Validating ...: 100%|██████████| 58/58 [00:22<00:00,  2.58it/s]\n"
          ]
        },
        {
          "metadata": {
            "tags": null
          },
          "name": "stdout",
          "output_type": "stream",
          "text": [
            "Mean Accuracy: 0.8741\n",
            "Avg loss: 0.4845520658739682\n",
            "Testing accuracy on epoch 1 is 0.8740801308258381 \n",
            "\n",
            "Saving Model\n"
          ]
        },
        {
          "metadata": {
            "tags": null
          },
          "name": "stderr",
          "output_type": "stream",
          "text": [
            "\n",
            "loss: 0.437: 100%|██████████| 58/58 [00:44<00:00,  1.29it/s]\n",
            "\n",
            "Training ...:  15%|█▌        | 3/20 [04:40<23:47, 83.95s/it] \u001b[A"
          ]
        },
        {
          "metadata": {
            "tags": null
          },
          "name": "stdout",
          "output_type": "stream",
          "text": [
            "Loss for Training on epoch 2 is 0.4809901714324951 \n",
            "\n"
          ]
        },
        {
          "metadata": {
            "tags": null
          },
          "name": "stderr",
          "output_type": "stream",
          "text": [
            "loss: 0.251: 100%|██████████| 58/58 [00:45<00:00,  1.28it/s]\n",
            "\n",
            "Training ...:  20%|██        | 4/20 [05:26<18:19, 68.70s/it]\u001b[A"
          ]
        },
        {
          "metadata": {
            "tags": null
          },
          "name": "stdout",
          "output_type": "stream",
          "text": [
            "Loss for Training on epoch 3 is 0.3238767981529236 \n",
            "\n"
          ]
        },
        {
          "metadata": {
            "tags": null
          },
          "name": "stderr",
          "output_type": "stream",
          "text": [
            "loss: 0.300: 100%|██████████| 58/58 [00:44<00:00,  1.31it/s]\n",
            "\n",
            "Training ...:  25%|██▌       | 5/20 [06:10<14:59, 59.94s/it]\u001b[A"
          ]
        },
        {
          "metadata": {
            "tags": null
          },
          "name": "stdout",
          "output_type": "stream",
          "text": [
            "Loss for Training on epoch 4 is 0.2649219036102295 \n",
            "\n"
          ]
        },
        {
          "metadata": {
            "tags": null
          },
          "name": "stderr",
          "output_type": "stream",
          "text": [
            "loss: 0.191: 100%|██████████| 58/58 [00:44<00:00,  1.30it/s]"
          ]
        },
        {
          "metadata": {
            "tags": null
          },
          "name": "stdout",
          "output_type": "stream",
          "text": [
            "Loss for Training on epoch 5 is 0.2206096649169922 \n",
            "\n",
            "Evaluating Network\n"
          ]
        },
        {
          "metadata": {
            "tags": null
          },
          "name": "stderr",
          "output_type": "stream",
          "text": [
            "\n",
            "Validating ...: 100%|██████████| 58/58 [00:42<00:00,  1.35it/s]"
          ]
        },
        {
          "metadata": {
            "tags": null
          },
          "name": "stdout",
          "output_type": "stream",
          "text": [
            "Mean Accuracy: 0.9617\n",
            "Avg loss: 0.1492152746509889\n",
            "Training accuracy on epoch 5 is 0.9616847826086956 \n",
            "\n"
          ]
        },
        {
          "metadata": {
            "tags": null
          },
          "name": "stderr",
          "output_type": "stream",
          "text": [
            "\n",
            "Validating ...: 100%|██████████| 58/58 [00:22<00:00,  2.63it/s]\n"
          ]
        },
        {
          "metadata": {
            "tags": null
          },
          "name": "stdout",
          "output_type": "stream",
          "text": [
            "Mean Accuracy: 0.8989\n",
            "Avg loss: 0.36873087267680416\n",
            "Testing accuracy on epoch 5 is 0.8988825292995366 \n",
            "\n",
            "Saving Model\n"
          ]
        },
        {
          "metadata": {
            "tags": null
          },
          "name": "stderr",
          "output_type": "stream",
          "text": [
            "\n",
            "loss: 0.170: 100%|██████████| 58/58 [00:44<00:00,  1.30it/s]\n",
            "\n",
            "Training ...:  35%|███▌      | 7/20 [08:45<14:24, 66.47s/it]\u001b[A"
          ]
        },
        {
          "metadata": {
            "tags": null
          },
          "name": "stdout",
          "output_type": "stream",
          "text": [
            "Loss for Training on epoch 6 is 0.18318110704421997 \n",
            "\n"
          ]
        },
        {
          "metadata": {
            "tags": null
          },
          "name": "stderr",
          "output_type": "stream",
          "text": [
            "loss: 0.324: 100%|██████████| 58/58 [00:44<00:00,  1.29it/s]\n",
            "\n",
            "Training ...:  40%|████      | 8/20 [09:30<11:55, 59.62s/it]\u001b[A"
          ]
        },
        {
          "metadata": {
            "tags": null
          },
          "name": "stdout",
          "output_type": "stream",
          "text": [
            "Loss for Training on epoch 7 is 0.1545996516942978 \n",
            "\n"
          ]
        },
        {
          "metadata": {
            "tags": null
          },
          "name": "stderr",
          "output_type": "stream",
          "text": [
            "loss: 0.161: 100%|██████████| 58/58 [00:45<00:00,  1.29it/s]\n",
            "\n",
            "Training ...:  45%|████▌     | 9/20 [10:15<10:06, 55.10s/it]\u001b[A"
          ]
        },
        {
          "metadata": {
            "tags": null
          },
          "name": "stdout",
          "output_type": "stream",
          "text": [
            "Loss for Training on epoch 8 is 0.13294096291065216 \n",
            "\n"
          ]
        },
        {
          "metadata": {
            "tags": null
          },
          "name": "stderr",
          "output_type": "stream",
          "text": [
            "loss: 0.096: 100%|██████████| 58/58 [00:45<00:00,  1.29it/s]\n",
            "\n",
            "Training ...:  50%|█████     | 10/20 [11:00<08:40, 52.05s/it]\u001b[A"
          ]
        },
        {
          "metadata": {
            "tags": null
          },
          "name": "stdout",
          "output_type": "stream",
          "text": [
            "Loss for Training on epoch 9 is 0.11384832859039307 \n",
            "\n"
          ]
        },
        {
          "metadata": {
            "tags": null
          },
          "name": "stderr",
          "output_type": "stream",
          "text": [
            "loss: 0.063: 100%|██████████| 58/58 [00:44<00:00,  1.30it/s]"
          ]
        },
        {
          "metadata": {
            "tags": null
          },
          "name": "stdout",
          "output_type": "stream",
          "text": [
            "Loss for Training on epoch 10 is 0.10987219214439392 \n",
            "\n",
            "Evaluating Network\n"
          ]
        },
        {
          "metadata": {
            "tags": null
          },
          "name": "stderr",
          "output_type": "stream",
          "text": [
            "\n",
            "Validating ...: 100%|██████████| 58/58 [00:42<00:00,  1.37it/s]"
          ]
        },
        {
          "metadata": {
            "tags": null
          },
          "name": "stdout",
          "output_type": "stream",
          "text": [
            "Mean Accuracy: 0.9886\n",
            "Avg loss: 0.06899316140033047\n",
            "Training accuracy on epoch 10 is 0.9885869565217391 \n",
            "\n"
          ]
        },
        {
          "metadata": {
            "tags": null
          },
          "name": "stderr",
          "output_type": "stream",
          "text": [
            "\n",
            "Validating ...: 100%|██████████| 58/58 [00:20<00:00,  2.80it/s]\n"
          ]
        },
        {
          "metadata": {
            "tags": null
          },
          "name": "stdout",
          "output_type": "stream",
          "text": [
            "Mean Accuracy: 0.8992\n",
            "Avg loss: 0.3532118036829192\n",
            "Testing accuracy on epoch 10 is 0.899155083128918 \n",
            "\n",
            "Saving Model\n"
          ]
        },
        {
          "metadata": {
            "tags": null
          },
          "name": "stderr",
          "output_type": "stream",
          "text": [
            "\n",
            "loss: 0.079: 100%|██████████| 58/58 [00:50<00:00,  1.15it/s]\n",
            "\n",
            "Training ...:  60%|██████    | 12/20 [13:39<08:28, 63.58s/it]\u001b[A"
          ]
        },
        {
          "metadata": {
            "tags": null
          },
          "name": "stdout",
          "output_type": "stream",
          "text": [
            "Loss for Training on epoch 11 is 0.09746094048023224 \n",
            "\n"
          ]
        },
        {
          "metadata": {
            "tags": null
          },
          "name": "stderr",
          "output_type": "stream",
          "text": [
            "loss: 0.117: 100%|██████████| 58/58 [00:52<00:00,  1.11it/s]\n",
            "\n",
            "Training ...:  65%|██████▌   | 13/20 [14:31<07:00, 60.14s/it]\u001b[A"
          ]
        },
        {
          "metadata": {
            "tags": null
          },
          "name": "stdout",
          "output_type": "stream",
          "text": [
            "Loss for Training on epoch 12 is 0.09284461289644241 \n",
            "\n"
          ]
        },
        {
          "metadata": {
            "tags": null
          },
          "name": "stderr",
          "output_type": "stream",
          "text": [
            "loss: 0.158: 100%|██████████| 58/58 [00:44<00:00,  1.32it/s]\n",
            "\n",
            "Training ...:  70%|███████   | 14/20 [15:15<05:31, 55.32s/it]\u001b[A"
          ]
        },
        {
          "metadata": {
            "tags": null
          },
          "name": "stdout",
          "output_type": "stream",
          "text": [
            "Loss for Training on epoch 13 is 0.09609602391719818 \n",
            "\n"
          ]
        },
        {
          "output_type": "stream",
          "name": "stderr",
          "text": [
            "loss: 0.073: 100%|██████████| 58/58 [00:45<00:00,  1.27it/s]\n",
            "\n",
            "Training ...:  75%|███████▌  | 15/20 [16:01<04:22, 52.46s/it]\u001b[A"
          ]
        },
        {
          "output_type": "stream",
          "name": "stdout",
          "text": [
            "Loss for Training on epoch 14 is 0.08614178001880646 \n",
            "\n"
          ]
        },
        {
          "output_type": "stream",
          "name": "stderr",
          "text": [
            "loss: 0.044: 100%|██████████| 58/58 [00:43<00:00,  1.33it/s]"
          ]
        },
        {
          "output_type": "stream",
          "name": "stdout",
          "text": [
            "Loss for Training on epoch 15 is 0.09160148352384567 \n",
            "\n",
            "Evaluating Network\n"
          ]
        },
        {
          "output_type": "stream",
          "name": "stderr",
          "text": [
            "\n",
            "Validating ...: 100%|██████████| 58/58 [00:41<00:00,  1.39it/s]"
          ]
        },
        {
          "output_type": "stream",
          "name": "stdout",
          "text": [
            "Mean Accuracy: 0.9908\n",
            "Avg loss: 0.05611177453578546\n",
            "Training accuracy on epoch 15 is 0.9907608695652174 \n",
            "\n"
          ]
        },
        {
          "output_type": "stream",
          "name": "stderr",
          "text": [
            "\n",
            "Validating ...: 100%|██████████| 58/58 [00:20<00:00,  2.83it/s]\n"
          ]
        },
        {
          "output_type": "stream",
          "name": "stdout",
          "text": [
            "Mean Accuracy: 0.8997\n",
            "Avg loss: 0.3465219064904698\n",
            "Testing accuracy on epoch 15 is 0.8997001907876806 \n",
            "\n",
            "Saving Model\n"
          ]
        },
        {
          "output_type": "stream",
          "name": "stderr",
          "text": [
            "\n",
            "loss: 0.072: 100%|██████████| 58/58 [00:44<00:00,  1.30it/s]\n",
            "\n",
            "Training ...:  85%|████████▌ | 17/20 [18:33<03:04, 61.55s/it]\u001b[A"
          ]
        },
        {
          "output_type": "stream",
          "name": "stdout",
          "text": [
            "Loss for Training on epoch 16 is 0.08497121185064316 \n",
            "\n"
          ]
        },
        {
          "output_type": "stream",
          "name": "stderr",
          "text": [
            "loss: 0.106: 100%|██████████| 58/58 [00:44<00:00,  1.31it/s]\n",
            "\n",
            "Training ...:  90%|█████████ | 18/20 [19:17<01:52, 56.42s/it]\u001b[A"
          ]
        },
        {
          "output_type": "stream",
          "name": "stdout",
          "text": [
            "Loss for Training on epoch 17 is 0.076754130423069 \n",
            "\n"
          ]
        },
        {
          "output_type": "stream",
          "name": "stderr",
          "text": [
            "loss: 0.121: 100%|██████████| 58/58 [00:43<00:00,  1.33it/s]\n",
            "\n",
            "Training ...:  95%|█████████▌| 19/20 [20:01<00:52, 52.66s/it]\u001b[A"
          ]
        },
        {
          "output_type": "stream",
          "name": "stdout",
          "text": [
            "Loss for Training on epoch 18 is 0.08469779044389725 \n",
            "\n"
          ]
        },
        {
          "output_type": "stream",
          "name": "stderr",
          "text": [
            "loss: 0.096: 100%|██████████| 58/58 [00:44<00:00,  1.31it/s]"
          ]
        },
        {
          "output_type": "stream",
          "name": "stdout",
          "text": [
            "Loss for Training on epoch 19 is 0.07772348821163177 \n",
            "\n",
            "Evaluating Network\n"
          ]
        },
        {
          "output_type": "stream",
          "name": "stderr",
          "text": [
            "\n",
            "Validating ...: 100%|██████████| 58/58 [00:41<00:00,  1.39it/s]"
          ]
        },
        {
          "output_type": "stream",
          "name": "stdout",
          "text": [
            "Mean Accuracy: 0.9935\n",
            "Avg loss: 0.05023674300775446\n",
            "Training accuracy on epoch 19 is 0.9934782608695653 \n",
            "\n"
          ]
        },
        {
          "output_type": "stream",
          "name": "stderr",
          "text": [
            "\n",
            "Validating ...: 100%|██████████| 58/58 [00:22<00:00,  2.61it/s]\n"
          ]
        },
        {
          "output_type": "stream",
          "name": "stdout",
          "text": [
            "Mean Accuracy: 0.9016\n",
            "Avg loss: 0.34127141638048764\n",
            "Testing accuracy on epoch 19 is 0.9016080675933497 \n",
            "\n",
            "Saving Model\n"
          ]
        },
        {
          "output_type": "stream",
          "name": "stderr",
          "text": [
            "\n",
            "Training ...: 100%|██████████| 20/20 [21:50<00:00, 65.51s/it]\n"
          ]
        }
      ]
    },
    {
      "cell_type": "markdown",
      "source": [
        "Plotting losses and accuracy"
      ],
      "metadata": {
        "id": "28qxmZK_qMQf"
      }
    },
    {
      "cell_type": "code",
      "source": [
        "plot_losses(train_losses, test_losses, test_interval, num_epochs)\n",
        "plot_accuracy(train_accuracy_list, test_accuracy_list, test_interval, num_epochs)"
      ],
      "metadata": {
        "colab": {
          "base_uri": "https://localhost:8080/",
          "height": 927
        },
        "id": "5e-csm7-qOWK",
        "outputId": "0c3cd918-fd57-481a-ea0a-3561454e613b"
      },
      "execution_count": null,
      "outputs": [
        {
          "output_type": "display_data",
          "data": {
            "text/plain": [
              "<Figure size 640x480 with 1 Axes>"
            ],
            "image/png": "[encoded data removed]"
          },
          "metadata": {}
        },
        {
          "output_type": "display_data",
          "data": {
            "text/plain": [
              "<Figure size 640x480 with 1 Axes>"
            ],
            "image/png": "[encoded data removed]"
          },
          "metadata": {}
        }
      ]
    },
    {
      "cell_type": "markdown",
      "source": [
        "Evaluating trained model"
      ],
      "metadata": {
        "id": "uaL3_p-dqSP-"
      }
    },
    {
      "cell_type": "code",
      "source": [
        "# TO DO: initialize your trained model as you did before so that you can load the parameters into it\n",
        "model = torch.hub.load('pytorch/vision:v0.10.0', 'resnet34', pretrained=True).to(device)\n",
        "# replace last layer\n",
        "feature_no = model.fc.in_features\n",
        "model.fc = nn.Linear(feature_no, target_class)\n",
        "model = model.to(device)\n",
        "\n",
        "load_model(model, save_dir) # Load the trained weight\n",
        "\n",
        "test_accuracy, test_loss= test(test_loader, model, criterion)\n",
        "print(f\"Testing accuracy is {str(test_accuracy)} \\n\")"
      ],
      "metadata": {
        "colab": {
          "base_uri": "https://localhost:8080/"
        },
        "id": "VDcSs8udqUms",
        "outputId": "0d5a2d00-b016-40e1-8224-08a6fa0f330a"
      },
      "execution_count": null,
      "outputs": [
        {
          "output_type": "stream",
          "name": "stderr",
          "text": [
            "Using cache found in /root/.cache/torch/hub/pytorch_vision_v0.10.0\n",
            "<ipython-input-11-bbcbe49c7d9f>:28: FutureWarning: You are using `torch.load` with `weights_only=False` (the current default value), which uses the default pickle module implicitly. It is possible to construct malicious pickle data which will execute arbitrary code during unpickling (See https://github.com/pytorch/pytorch/blob/main/SECURITY.md#untrusted-models for more details). In a future release, the default value for `weights_only` will be flipped to `True`. This limits the functions that could be executed during unpickling. Arbitrary objects will no longer be allowed to be loaded via this mode unless they are explicitly allowlisted by the user via `torch.serialization.add_safe_globals`. We recommend you start setting `weights_only=True` for any use case where you don't have full control of the loaded file. Please open an issue on GitHub for any issues related to this experimental feature.\n",
            "  model.load_state_dict(torch.load(save_path))\n",
            "Validating ...: 100%|██████████| 58/58 [00:31<00:00,  1.86it/s]"
          ]
        },
        {
          "output_type": "stream",
          "name": "stdout",
          "text": [
            "Mean Accuracy: 0.9016\n",
            "Avg loss: 0.34127141638048764\n",
            "Testing accuracy is 0.9016080675933497 \n",
            "\n"
          ]
        },
        {
          "output_type": "stream",
          "name": "stderr",
          "text": [
            "\n"
          ]
        }
      ]
    },
    {
      "cell_type": "markdown",
      "source": [
        "# 2. Building own network from scratch"
      ],
      "metadata": {
        "id": "82eozOCttFyn"
      }
    },
    {
      "cell_type": "code",
      "source": [
        "# example network definition that needs to be modified for custom network stretch goal\n",
        "\n",
        "class Network(nn.Module):\n",
        "    def __init__(self, num_classes=10, dropout = 0.5):\n",
        "        super(Network, self).__init__()\n",
        "        self.features = nn.Sequential(\n",
        "            nn.Conv2d(3, 64, kernel_size=11, stride=4, padding=2),\n",
        "            nn.ReLU(inplace=True),\n",
        "            nn.MaxPool2d(kernel_size=3, stride=2),\n",
        "            nn.Conv2d(64, 256, kernel_size=5, padding=2),\n",
        "            nn.ReLU(inplace=True),\n",
        "            nn.MaxPool2d(kernel_size=3, stride=2),\n",
        "            nn.Conv2d(256, 256, kernel_size=3, padding=1),\n",
        "            nn.ReLU(inplace=True),\n",
        "            nn.MaxPool2d(kernel_size=3, stride=2),\n",
        "        )\n",
        "\n",
        "        self.avgpool = nn.AdaptiveAvgPool2d((6, 6))\n",
        "        self.classifier = nn.Sequential(\n",
        "            nn.Dropout(p=dropout),\n",
        "            nn.Linear(256 * 6 * 6, 512),\n",
        "            nn.ReLU(inplace=True),\n",
        "            nn.Dropout(p=dropout),\n",
        "            nn.Linear(512, 512),\n",
        "            nn.ReLU(inplace=True),\n",
        "            nn.Linear(512, num_classes),\n",
        "        )\n",
        "\n",
        "\n",
        "    def forward(self, x):\n",
        "        N, c, H, W = x.shape\n",
        "        features = self.features(x)\n",
        "        pooled_features = self.avgpool(features)\n",
        "        output = self.classifier(torch.flatten(pooled_features, 1))\n",
        "        return output"
      ],
      "metadata": {
        "id": "RoB-hP2-tSwW"
      },
      "execution_count": null,
      "outputs": []
    },
    {
      "cell_type": "code",
      "source": [
        "##RESNET\n",
        "import torch.nn as nn; import torch.nn.functional as nnf; import torch\n",
        "class ResBlock(nn.Module):\n",
        "    def __init__(self, in_channels, out_channels, stride=1):\n",
        "        super(ResBlock, self).__init__()\n",
        "        self.conv1 = nn.Conv2d(in_channels, out_channels, kernel_size=3, stride=stride, padding=1, bias=False)\n",
        "        self.bn1 = nn.BatchNorm2d(out_channels)\n",
        "        self.conv2 = nn.Conv2d(out_channels, out_channels, kernel_size=3, stride=1, padding=1, bias=False)\n",
        "        self.bn2 = nn.BatchNorm2d(out_channels)\n",
        "        self.shortcut = nn.Sequential()\n",
        "        if stride != 1 or in_channels != out_channels:\n",
        "            self.shortcut = nn.Sequential(\n",
        "                nn.Conv2d(in_channels, out_channels, kernel_size=1, stride=stride, bias=False),\n",
        "                nn.BatchNorm2d(out_channels)\n",
        "            )\n",
        "        self.dropout = nn.Dropout(p=0.12)\n",
        "\n",
        "    def forward(self, x):\n",
        "        residual = x\n",
        "        out = nnf.relu(self.bn1(self.conv1(x)))\n",
        "        out = self.bn2(self.conv2(out))\n",
        "        out += self.shortcut(residual)\n",
        "        out = nnf.relu(out)\n",
        "        out = self.dropout(out) # Apply dropout to the output\n",
        "        return out\n",
        "\n",
        "class ResNet(nn.Module):\n",
        "    def __init__(self, num_classes=37):\n",
        "        super(ResNet, self).__init__()\n",
        "        self.conv1 = nn.Conv2d(3, 64, kernel_size=7, stride=2, padding=3, bias=False)\n",
        "        self.bn1 = nn.BatchNorm2d(64)\n",
        "        self.maxpool = nn.MaxPool2d(kernel_size=3, stride=2, padding=1)\n",
        "        self.layer1 = nn.Sequential(ResBlock(64, 64),ResBlock(64, 64))\n",
        "        self.layer2 = nn.Sequential(ResBlock(64, 128, stride=2),  ResBlock(128, 128))\n",
        "        self.layer3 = nn.Sequential(ResBlock(128, 256, stride=2), ResBlock(256, 256))\n",
        "        #self.layer4 = nn.Sequential(ResBlock(256, 512, stride=2), ResBlock(512, 512))\n",
        "        self.avgpool = nn.AdaptiveAvgPool2d((1, 1))\n",
        "        self.fc = nn.Linear(256, num_classes)\n",
        "\n",
        "    def forward(self, x):\n",
        "        x = self.conv1(x);\n",
        "        x = self.bn1(x);\n",
        "        x = nnf.relu(x);\n",
        "        x = self.maxpool(x)\n",
        "        x = self.layer1(x);\n",
        "        x = self.layer2(x);\n",
        "        x = self.layer3(x);  #x = self.layer4(x);\n",
        "        x = self.avgpool(x);\n",
        "        x = torch.flatten(x, 1);  x = self.fc(x)\n",
        "        return x\n",
        "\n",
        "model = ResNet(num_classes=37)\n",
        "#device = torch.device(\"cuda:1\" if torch.cuda.is_available() else \"cpu\")\n",
        "device = \"cuda\" if torch.cuda.is_available() else 'cpu'\n",
        "model = model.to(device)\n",
        "\n",
        "display_model(model)"
      ],
      "metadata": {
        "colab": {
          "base_uri": "https://localhost:8080/"
        },
        "id": "L0YALn2ItT-s",
        "outputId": "12edbd5e-6449-46ed-f379-76bbe25cc66b"
      },
      "execution_count": null,
      "outputs": [
        {
          "output_type": "stream",
          "name": "stdout",
          "text": [
            "================================================================================\n",
            "- conv1                                    :                9408               \n",
            "- bn1                                      :                128                \n",
            "- maxpool                                  :                 0                 \n",
            "- layer1                                   :               147968              \n",
            "- layer2                                   :               525568              \n",
            "- layer3                                   :              2099712              \n",
            "- avgpool                                  :                 0                 \n",
            "- fc                                       :                9509               \n",
            "================================================================================\n",
            "--Total                                    :           2792293 params          --\n",
            "ResNet(\n",
            "  (conv1): Conv2d(3, 64, kernel_size=(7, 7), stride=(2, 2), padding=(3, 3), bias=False)\n",
            "  (bn1): BatchNorm2d(64, eps=1e-05, momentum=0.1, affine=True, track_running_stats=True)\n",
            "  (maxpool): MaxPool2d(kernel_size=3, stride=2, padding=1, dilation=1, ceil_mode=False)\n",
            "  (layer1): Sequential(\n",
            "    (0): ResBlock(\n",
            "      (conv1): Conv2d(64, 64, kernel_size=(3, 3), stride=(1, 1), padding=(1, 1), bias=False)\n",
            "      (bn1): BatchNorm2d(64, eps=1e-05, momentum=0.1, affine=True, track_running_stats=True)\n",
            "      (conv2): Conv2d(64, 64, kernel_size=(3, 3), stride=(1, 1), padding=(1, 1), bias=False)\n",
            "      (bn2): BatchNorm2d(64, eps=1e-05, momentum=0.1, affine=True, track_running_stats=True)\n",
            "      (shortcut): Sequential()\n",
            "      (dropout): Dropout(p=0.12, inplace=False)\n",
            "    )\n",
            "    (1): ResBlock(\n",
            "      (conv1): Conv2d(64, 64, kernel_size=(3, 3), stride=(1, 1), padding=(1, 1), bias=False)\n",
            "      (bn1): BatchNorm2d(64, eps=1e-05, momentum=0.1, affine=True, track_running_stats=True)\n",
            "      (conv2): Conv2d(64, 64, kernel_size=(3, 3), stride=(1, 1), padding=(1, 1), bias=False)\n",
            "      (bn2): BatchNorm2d(64, eps=1e-05, momentum=0.1, affine=True, track_running_stats=True)\n",
            "      (shortcut): Sequential()\n",
            "      (dropout): Dropout(p=0.12, inplace=False)\n",
            "    )\n",
            "  )\n",
            "  (layer2): Sequential(\n",
            "    (0): ResBlock(\n",
            "      (conv1): Conv2d(64, 128, kernel_size=(3, 3), stride=(2, 2), padding=(1, 1), bias=False)\n",
            "      (bn1): BatchNorm2d(128, eps=1e-05, momentum=0.1, affine=True, track_running_stats=True)\n",
            "      (conv2): Conv2d(128, 128, kernel_size=(3, 3), stride=(1, 1), padding=(1, 1), bias=False)\n",
            "      (bn2): BatchNorm2d(128, eps=1e-05, momentum=0.1, affine=True, track_running_stats=True)\n",
            "      (shortcut): Sequential(\n",
            "        (0): Conv2d(64, 128, kernel_size=(1, 1), stride=(2, 2), bias=False)\n",
            "        (1): BatchNorm2d(128, eps=1e-05, momentum=0.1, affine=True, track_running_stats=True)\n",
            "      )\n",
            "      (dropout): Dropout(p=0.12, inplace=False)\n",
            "    )\n",
            "    (1): ResBlock(\n",
            "      (conv1): Conv2d(128, 128, kernel_size=(3, 3), stride=(1, 1), padding=(1, 1), bias=False)\n",
            "      (bn1): BatchNorm2d(128, eps=1e-05, momentum=0.1, affine=True, track_running_stats=True)\n",
            "      (conv2): Conv2d(128, 128, kernel_size=(3, 3), stride=(1, 1), padding=(1, 1), bias=False)\n",
            "      (bn2): BatchNorm2d(128, eps=1e-05, momentum=0.1, affine=True, track_running_stats=True)\n",
            "      (shortcut): Sequential()\n",
            "      (dropout): Dropout(p=0.12, inplace=False)\n",
            "    )\n",
            "  )\n",
            "  (layer3): Sequential(\n",
            "    (0): ResBlock(\n",
            "      (conv1): Conv2d(128, 256, kernel_size=(3, 3), stride=(2, 2), padding=(1, 1), bias=False)\n",
            "      (bn1): BatchNorm2d(256, eps=1e-05, momentum=0.1, affine=True, track_running_stats=True)\n",
            "      (conv2): Conv2d(256, 256, kernel_size=(3, 3), stride=(1, 1), padding=(1, 1), bias=False)\n",
            "      (bn2): BatchNorm2d(256, eps=1e-05, momentum=0.1, affine=True, track_running_stats=True)\n",
            "      (shortcut): Sequential(\n",
            "        (0): Conv2d(128, 256, kernel_size=(1, 1), stride=(2, 2), bias=False)\n",
            "        (1): BatchNorm2d(256, eps=1e-05, momentum=0.1, affine=True, track_running_stats=True)\n",
            "      )\n",
            "      (dropout): Dropout(p=0.12, inplace=False)\n",
            "    )\n",
            "    (1): ResBlock(\n",
            "      (conv1): Conv2d(256, 256, kernel_size=(3, 3), stride=(1, 1), padding=(1, 1), bias=False)\n",
            "      (bn1): BatchNorm2d(256, eps=1e-05, momentum=0.1, affine=True, track_running_stats=True)\n",
            "      (conv2): Conv2d(256, 256, kernel_size=(3, 3), stride=(1, 1), padding=(1, 1), bias=False)\n",
            "      (bn2): BatchNorm2d(256, eps=1e-05, momentum=0.1, affine=True, track_running_stats=True)\n",
            "      (shortcut): Sequential()\n",
            "      (dropout): Dropout(p=0.12, inplace=False)\n",
            "    )\n",
            "  )\n",
            "  (avgpool): AdaptiveAvgPool2d(output_size=(1, 1))\n",
            "  (fc): Linear(in_features=256, out_features=37, bias=True)\n",
            ")\n"
          ]
        }
      ]
    },
    {
      "cell_type": "code",
      "source": [
        "learn_rate = 0.0098; num_epochs = 60 ;     test_interval = 10\n",
        "optimizer = torch.optim.Adam(model.parameters(), lr=learn_rate)\n",
        "lr_scheduler = torch.optim.lr_scheduler.StepLR(optimizer, step_size=8, gamma=0.5, last_epoch=-1)\n",
        "criterion = nn.CrossEntropyLoss()\n",
        "\n",
        "train_losses = [];\n",
        "train_accuracy_list = [];\n",
        "test_losses = [];\n",
        "test_accuracy_list = []\n",
        "\n",
        "# Iterate over the DataLoader for training data\n",
        "for epoch in tqdm(range(num_epochs), total=num_epochs, desc=\"Training ...\", position=1):\n",
        "    train_loss = train(train_loader, model, criterion, optimizer) # Train the Network for one epoch\n",
        "    lr_scheduler.step() ;    train_losses.append(train_loss)\n",
        "\n",
        "    if(epoch%test_interval==0 or epoch==1 or epoch==num_epochs-1):\n",
        "        train_accuracy, _ = test(train_loader, model, criterion) # Get training accuracy\n",
        "        train_accuracy_list.append(train_accuracy)\n",
        "        print(f'Training accuracy on epoch {str(epoch)} is {str(train_accuracy)} \\n')\n",
        "\n",
        "        test_accuracy, test_loss = test(test_loader, model, criterion) # Get testing accuracy and error\n",
        "        test_losses.append(test_loss);        test_accuracy_list.append(test_accuracy)\n",
        "        print(f'Testing accuracy on epoch {str(epoch)} is {str(test_accuracy)} \\n')\n",
        "\n",
        "        # Checkpoints are used to save the model with best validation accuracy\n",
        "        if test_accuracy >= max(test_accuracy_list):\n",
        "#           print(\"Saving Model\")\n",
        "          save_checkpoint(save_dir, model, save_name = 'best_model.pth') # Save model with best performance"
      ],
      "metadata": {
        "colab": {
          "base_uri": "https://localhost:8080/"
        },
        "id": "PrjwosbetXEs",
        "outputId": "0fb95348-4f8a-49ac-b04b-39bcde4c1133"
      },
      "execution_count": null,
      "outputs": [
        {
          "output_type": "stream",
          "name": "stderr",
          "text": [
            "\n",
            "loss: 3.473: 100%|██████████| 58/58 [00:41<00:00,  1.38it/s]\n",
            "Validating ...: 100%|██████████| 58/58 [00:40<00:00,  1.45it/s]"
          ]
        },
        {
          "output_type": "stream",
          "name": "stdout",
          "text": [
            "Mean Accuracy: 0.0416\n",
            "Avg loss: 3.62731802052465\n",
            "Training accuracy on epoch 0 is 0.04157608695652174 \n",
            "\n"
          ]
        },
        {
          "output_type": "stream",
          "name": "stderr",
          "text": [
            "\n",
            "Validating ...: 100%|██████████| 58/58 [00:19<00:00,  2.99it/s]\n"
          ]
        },
        {
          "output_type": "stream",
          "name": "stdout",
          "text": [
            "Mean Accuracy: 0.0379\n",
            "Avg loss: 3.638671640692086\n",
            "Testing accuracy on epoch 0 is 0.03788498228400109 \n",
            "\n"
          ]
        },
        {
          "output_type": "stream",
          "name": "stderr",
          "text": [
            "\n",
            "loss: 3.515: 100%|██████████| 58/58 [00:41<00:00,  1.41it/s]\n",
            "Validating ...: 100%|██████████| 58/58 [00:39<00:00,  1.45it/s]"
          ]
        },
        {
          "output_type": "stream",
          "name": "stdout",
          "text": [
            "Mean Accuracy: 0.0592\n",
            "Avg loss: 3.7936663134344695\n",
            "Training accuracy on epoch 1 is 0.05923913043478261 \n",
            "\n"
          ]
        },
        {
          "output_type": "stream",
          "name": "stderr",
          "text": [
            "\n",
            "Validating ...: 100%|██████████| 58/58 [00:19<00:00,  3.02it/s]\n",
            "\n",
            "Training ...:   3%|▎         | 2/60 [03:23<1:38:06, 101.49s/it]\u001b[A"
          ]
        },
        {
          "output_type": "stream",
          "name": "stdout",
          "text": [
            "Mean Accuracy: 0.0491\n",
            "Avg loss: 3.790154785945498\n",
            "Testing accuracy on epoch 1 is 0.04905968928863451 \n",
            "\n"
          ]
        },
        {
          "output_type": "stream",
          "name": "stderr",
          "text": [
            "loss: 3.502: 100%|██████████| 58/58 [00:41<00:00,  1.40it/s]\n",
            "\n",
            "loss: 3.331: 100%|██████████| 58/58 [00:40<00:00,  1.43it/s]\n",
            "\n",
            "loss: 3.377: 100%|██████████| 58/58 [00:41<00:00,  1.40it/s]\n",
            "\n",
            "loss: 3.392: 100%|██████████| 58/58 [00:40<00:00,  1.42it/s]\n",
            "\n",
            "loss: 2.966: 100%|██████████| 58/58 [00:40<00:00,  1.45it/s]\n",
            "\n",
            "loss: 3.240: 100%|██████████| 58/58 [00:40<00:00,  1.43it/s]\n",
            "\n",
            "loss: 3.552: 100%|██████████| 58/58 [00:40<00:00,  1.41it/s]\n",
            "\n",
            "loss: 3.294: 100%|██████████| 58/58 [00:40<00:00,  1.42it/s]\n",
            "\n",
            "loss: 3.135: 100%|██████████| 58/58 [00:40<00:00,  1.42it/s]\n",
            "Validating ...: 100%|██████████| 58/58 [00:38<00:00,  1.50it/s]"
          ]
        },
        {
          "output_type": "stream",
          "name": "stdout",
          "text": [
            "Mean Accuracy: 0.1269\n",
            "Avg loss: 3.1011577228019975\n",
            "Training accuracy on epoch 10 is 0.12690217391304348 \n",
            "\n"
          ]
        },
        {
          "output_type": "stream",
          "name": "stderr",
          "text": [
            "\n",
            "Validating ...: 100%|██████████| 58/58 [00:20<00:00,  2.80it/s]\n",
            "\n",
            "Training ...:  18%|█▊        | 11/60 [10:30<49:17, 60.36s/it]\u001b[A"
          ]
        },
        {
          "output_type": "stream",
          "name": "stdout",
          "text": [
            "Mean Accuracy: 0.1292\n",
            "Avg loss: 3.095428158496988\n",
            "Testing accuracy on epoch 10 is 0.12919051512673754 \n",
            "\n"
          ]
        },
        {
          "output_type": "stream",
          "name": "stderr",
          "text": [
            "loss: 3.079: 100%|██████████| 58/58 [00:40<00:00,  1.42it/s]\n",
            "\n",
            "loss: 2.880: 100%|██████████| 58/58 [00:40<00:00,  1.44it/s]\n",
            "\n",
            "loss: 2.800: 100%|██████████| 58/58 [00:41<00:00,  1.41it/s]\n",
            "\n",
            "loss: 3.314: 100%|██████████| 58/58 [00:41<00:00,  1.40it/s]\n",
            "\n",
            "loss: 3.067: 100%|██████████| 58/58 [00:41<00:00,  1.40it/s]\n",
            "\n",
            "loss: 2.937: 100%|██████████| 58/58 [00:40<00:00,  1.43it/s]\n",
            "\n",
            "loss: 2.384: 100%|██████████| 58/58 [00:38<00:00,  1.49it/s]\n",
            "\n",
            "loss: 2.835: 100%|██████████| 58/58 [00:40<00:00,  1.41it/s]\n",
            "\n",
            "loss: 2.988: 100%|██████████| 58/58 [00:41<00:00,  1.41it/s]\n",
            "\n",
            "loss: 3.275: 100%|██████████| 58/58 [00:41<00:00,  1.39it/s]\n",
            "Validating ...: 100%|██████████| 58/58 [00:39<00:00,  1.47it/s]"
          ]
        },
        {
          "output_type": "stream",
          "name": "stdout",
          "text": [
            "Mean Accuracy: 0.2793\n",
            "Avg loss: 2.565370428151098\n",
            "Training accuracy on epoch 20 is 0.2793478260869565 \n",
            "\n"
          ]
        },
        {
          "output_type": "stream",
          "name": "stderr",
          "text": [
            "\n",
            "Validating ...: 100%|██████████| 58/58 [00:19<00:00,  3.00it/s]\n",
            "\n",
            "Training ...:  35%|███▌      | 21/60 [18:19<38:35, 59.37s/it]\u001b[A"
          ]
        },
        {
          "output_type": "stream",
          "name": "stdout",
          "text": [
            "Mean Accuracy: 0.2398\n",
            "Avg loss: 2.696735217653472\n",
            "Testing accuracy on epoch 20 is 0.23984736985554647 \n",
            "\n"
          ]
        },
        {
          "output_type": "stream",
          "name": "stderr",
          "text": [
            "loss: 2.398: 100%|██████████| 58/58 [00:41<00:00,  1.39it/s]\n",
            "\n",
            "loss: 2.964: 100%|██████████| 58/58 [00:44<00:00,  1.29it/s]\n",
            "\n",
            "loss: 2.335: 100%|██████████| 58/58 [00:41<00:00,  1.40it/s]\n",
            "\n",
            "loss: 2.342: 100%|██████████| 58/58 [00:40<00:00,  1.42it/s]\n",
            "\n",
            "loss: 2.591: 100%|██████████| 58/58 [00:39<00:00,  1.47it/s]\n",
            "\n",
            "loss: 2.208: 100%|██████████| 58/58 [00:41<00:00,  1.41it/s]\n",
            "\n",
            "loss: 2.721: 100%|██████████| 58/58 [00:40<00:00,  1.43it/s]\n",
            "\n",
            "loss: 2.464: 100%|██████████| 58/58 [00:41<00:00,  1.41it/s]\n",
            "\n",
            "loss: 2.260: 100%|██████████| 58/58 [00:41<00:00,  1.40it/s]\n",
            "\n",
            "loss: 1.967: 100%|██████████| 58/58 [00:40<00:00,  1.42it/s]\n",
            "Validating ...: 100%|██████████| 58/58 [00:39<00:00,  1.47it/s]"
          ]
        },
        {
          "output_type": "stream",
          "name": "stdout",
          "text": [
            "Mean Accuracy: 0.3883\n",
            "Avg loss: 2.131317068790567\n",
            "Training accuracy on epoch 30 is 0.38831521739130437 \n",
            "\n"
          ]
        },
        {
          "output_type": "stream",
          "name": "stderr",
          "text": [
            "\n",
            "Validating ...: 100%|██████████| 58/58 [00:21<00:00,  2.74it/s]\n",
            "\n",
            "Training ...:  52%|█████▏    | 31/60 [26:13<28:55, 59.85s/it]\u001b[A"
          ]
        },
        {
          "output_type": "stream",
          "name": "stdout",
          "text": [
            "Mean Accuracy: 0.3085\n",
            "Avg loss: 2.419024607230877\n",
            "Testing accuracy on epoch 30 is 0.3085309348596348 \n",
            "\n"
          ]
        },
        {
          "output_type": "stream",
          "name": "stderr",
          "text": [
            "loss: 2.246: 100%|██████████| 58/58 [00:42<00:00,  1.37it/s]\n",
            "\n",
            "loss: 2.042: 100%|██████████| 58/58 [00:40<00:00,  1.42it/s]\n",
            "\n",
            "loss: 2.010: 100%|██████████| 58/58 [00:40<00:00,  1.43it/s]\n",
            "\n",
            "loss: 2.330: 100%|██████████| 58/58 [00:42<00:00,  1.38it/s]\n",
            "\n",
            "loss: 1.851: 100%|██████████| 58/58 [00:41<00:00,  1.40it/s]\n",
            "\n",
            "loss: 1.723: 100%|██████████| 58/58 [00:42<00:00,  1.37it/s]\n",
            "\n",
            "loss: 1.876: 100%|██████████| 58/58 [00:42<00:00,  1.38it/s]\n",
            "\n",
            "loss: 2.021: 100%|██████████| 58/58 [00:42<00:00,  1.37it/s]\n",
            "\n",
            "loss: 1.903: 100%|██████████| 58/58 [00:42<00:00,  1.38it/s]\n",
            "\n",
            "loss: 1.912: 100%|██████████| 58/58 [00:41<00:00,  1.41it/s]\n",
            "Validating ...: 100%|██████████| 58/58 [00:41<00:00,  1.39it/s]"
          ]
        },
        {
          "output_type": "stream",
          "name": "stdout",
          "text": [
            "Mean Accuracy: 0.4826\n",
            "Avg loss: 1.7335741149968114\n",
            "Training accuracy on epoch 40 is 0.4826086956521739 \n",
            "\n"
          ]
        },
        {
          "output_type": "stream",
          "name": "stderr",
          "text": [
            "\n",
            "Validating ...: 100%|██████████| 58/58 [00:21<00:00,  2.69it/s]\n",
            "\n",
            "Training ...:  68%|██████▊   | 41/60 [34:15<19:27, 61.44s/it]\u001b[A"
          ]
        },
        {
          "output_type": "stream",
          "name": "stdout",
          "text": [
            "Mean Accuracy: 0.3827\n",
            "Avg loss: 2.151932149097837\n",
            "Testing accuracy on epoch 40 is 0.38266557645134913 \n",
            "\n"
          ]
        },
        {
          "output_type": "stream",
          "name": "stderr",
          "text": [
            "loss: 2.133: 100%|██████████| 58/58 [00:43<00:00,  1.32it/s]\n",
            "\n",
            "loss: 2.015: 100%|██████████| 58/58 [00:43<00:00,  1.34it/s]\n",
            "\n",
            "loss: 1.568: 100%|██████████| 58/58 [00:43<00:00,  1.32it/s]\n",
            "\n",
            "loss: 2.283: 100%|██████████| 58/58 [00:42<00:00,  1.36it/s]\n",
            "\n",
            "loss: 2.129: 100%|██████████| 58/58 [00:41<00:00,  1.39it/s]\n",
            "\n",
            "loss: 1.768: 100%|██████████| 58/58 [00:40<00:00,  1.42it/s]\n",
            "\n",
            "loss: 1.747: 100%|██████████| 58/58 [00:42<00:00,  1.38it/s]\n",
            "\n",
            "loss: 1.777: 100%|██████████| 58/58 [00:43<00:00,  1.34it/s]\n",
            "\n",
            "loss: 1.336: 100%|██████████| 58/58 [00:42<00:00,  1.36it/s]\n",
            "\n",
            "loss: 1.697: 100%|██████████| 58/58 [00:43<00:00,  1.34it/s]\n",
            "Validating ...: 100%|██████████| 58/58 [00:41<00:00,  1.38it/s]"
          ]
        },
        {
          "output_type": "stream",
          "name": "stdout",
          "text": [
            "Mean Accuracy: 0.5190\n",
            "Avg loss: 1.6202128324015388\n",
            "Training accuracy on epoch 50 is 0.5190217391304348 \n",
            "\n"
          ]
        },
        {
          "output_type": "stream",
          "name": "stderr",
          "text": [
            "\n",
            "Validating ...: 100%|██████████| 58/58 [00:19<00:00,  2.91it/s]\n",
            "\n",
            "Training ...:  85%|████████▌ | 51/60 [42:26<09:17, 61.99s/it]\u001b[A"
          ]
        },
        {
          "output_type": "stream",
          "name": "stdout",
          "text": [
            "Mean Accuracy: 0.3895\n",
            "Avg loss: 2.122638673617922\n",
            "Testing accuracy on epoch 50 is 0.3894794221858817 \n",
            "\n"
          ]
        },
        {
          "output_type": "stream",
          "name": "stderr",
          "text": [
            "loss: 1.495: 100%|██████████| 58/58 [00:43<00:00,  1.33it/s]\n",
            "\n",
            "loss: 2.016: 100%|██████████| 58/58 [00:42<00:00,  1.35it/s]\n",
            "\n",
            "loss: 1.717: 100%|██████████| 58/58 [00:42<00:00,  1.38it/s]\n",
            "\n",
            "loss: 1.690: 100%|██████████| 58/58 [00:42<00:00,  1.36it/s]\n",
            "\n",
            "loss: 1.883: 100%|██████████| 58/58 [00:42<00:00,  1.38it/s]\n",
            "\n",
            "loss: 1.456: 100%|██████████| 58/58 [00:42<00:00,  1.37it/s]\n",
            "\n",
            "loss: 1.441: 100%|██████████| 58/58 [00:42<00:00,  1.38it/s]\n",
            "\n",
            "loss: 1.734: 100%|██████████| 58/58 [00:40<00:00,  1.44it/s]\n",
            "\n",
            "loss: 1.606: 100%|██████████| 58/58 [00:41<00:00,  1.39it/s]\n",
            "Validating ...: 100%|██████████| 58/58 [00:41<00:00,  1.40it/s]"
          ]
        },
        {
          "output_type": "stream",
          "name": "stdout",
          "text": [
            "Mean Accuracy: 0.5380\n",
            "Avg loss: 1.5643995609776726\n",
            "Training accuracy on epoch 59 is 0.5380434782608695 \n",
            "\n"
          ]
        },
        {
          "output_type": "stream",
          "name": "stderr",
          "text": [
            "\n",
            "Validating ...: 100%|██████████| 58/58 [00:20<00:00,  2.85it/s]\n",
            "\n",
            "Training ...: 100%|██████████| 60/60 [49:49<00:00, 49.82s/it]"
          ]
        },
        {
          "output_type": "stream",
          "name": "stdout",
          "text": [
            "Mean Accuracy: 0.3919\n",
            "Avg loss: 2.1013697180254707\n",
            "Testing accuracy on epoch 59 is 0.3919324066503134 \n",
            "\n"
          ]
        },
        {
          "output_type": "stream",
          "name": "stderr",
          "text": [
            "\n"
          ]
        }
      ]
    },
    {
      "cell_type": "code",
      "source": [
        "print(test_accuracy_list)"
      ],
      "metadata": {
        "colab": {
          "base_uri": "https://localhost:8080/"
        },
        "id": "nN50iHduCpVB",
        "outputId": "5280c6b2-d022-4dce-fda7-2d8e663df773"
      },
      "execution_count": null,
      "outputs": [
        {
          "output_type": "stream",
          "name": "stdout",
          "text": [
            "[0.03788498228400109, 0.04905968928863451, 0.12919051512673754, 0.23984736985554647, 0.3085309348596348, 0.38266557645134913, 0.3894794221858817, 0.3919324066503134]\n"
          ]
        }
      ]
    }
  ]
}